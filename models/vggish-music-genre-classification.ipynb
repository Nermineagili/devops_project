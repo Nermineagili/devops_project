{
 "cells": [
  {
   "cell_type": "code",
   "execution_count": 1,
   "id": "9fd47ead",
   "metadata": {
    "_cell_guid": "b1076dfc-b9ad-4769-8c92-a6c4dae69d19",
    "_uuid": "8f2839f25d086af736a60e9eeb907d3b93b6e0e5",
    "execution": {
     "iopub.execute_input": "2024-11-09T15:12:58.880789Z",
     "iopub.status.busy": "2024-11-09T15:12:58.879829Z",
     "iopub.status.idle": "2024-11-09T15:12:59.022854Z",
     "shell.execute_reply": "2024-11-09T15:12:59.021776Z"
    },
    "papermill": {
     "duration": 0.154022,
     "end_time": "2024-11-09T15:12:59.025483",
     "exception": false,
     "start_time": "2024-11-09T15:12:58.871461",
     "status": "completed"
    },
    "tags": []
   },
   "outputs": [
    {
     "data": {
      "text/plain": [
       "['/kaggle/input/music-genre-classification/train/disco/disco.00031.wav',\n",
       " '/kaggle/input/music-genre-classification/train/disco/disco.00089.wav',\n",
       " '/kaggle/input/music-genre-classification/train/disco/disco.00079.wav',\n",
       " '/kaggle/input/music-genre-classification/train/disco/disco.00030.wav',\n",
       " '/kaggle/input/music-genre-classification/train/disco/disco.00060.wav']"
      ]
     },
     "execution_count": 1,
     "metadata": {},
     "output_type": "execute_result"
    }
   ],
   "source": [
    "Id=[]\n",
    "import numpy as np # linear algebra\n",
    "import pandas as pd # data processing, CSV file I/O (e.g. pd.read_csv)\n",
    "\n",
    "# Input data files are available in the read-only \"../input/\" directory\n",
    "# For example, running this (by clicking run or pressing Shift+Enter) will list all files under the input directory\n",
    "\n",
    "import os\n",
    "for dirname, _, filenames in os.walk('/kaggle/input/music-genre-classification/train'):\n",
    "    for filename in filenames:\n",
    "        Id.append(os.path.join(dirname, filename))\n",
    "Id[:5]"
   ]
  },
  {
   "cell_type": "code",
   "execution_count": 2,
   "id": "5df6587d",
   "metadata": {
    "execution": {
     "iopub.execute_input": "2024-11-09T15:12:59.039610Z",
     "iopub.status.busy": "2024-11-09T15:12:59.039247Z",
     "iopub.status.idle": "2024-11-09T15:12:59.073887Z",
     "shell.execute_reply": "2024-11-09T15:12:59.072891Z"
    },
    "papermill": {
     "duration": 0.044362,
     "end_time": "2024-11-09T15:12:59.076310",
     "exception": false,
     "start_time": "2024-11-09T15:12:59.031948",
     "status": "completed"
    },
    "tags": []
   },
   "outputs": [
    {
     "data": {
      "text/html": [
       "<div>\n",
       "<style scoped>\n",
       "    .dataframe tbody tr th:only-of-type {\n",
       "        vertical-align: middle;\n",
       "    }\n",
       "\n",
       "    .dataframe tbody tr th {\n",
       "        vertical-align: top;\n",
       "    }\n",
       "\n",
       "    .dataframe thead th {\n",
       "        text-align: right;\n",
       "    }\n",
       "</style>\n",
       "<table border=\"1\" class=\"dataframe\">\n",
       "  <thead>\n",
       "    <tr style=\"text-align: right;\">\n",
       "      <th></th>\n",
       "      <th>filename</th>\n",
       "    </tr>\n",
       "  </thead>\n",
       "  <tbody>\n",
       "    <tr>\n",
       "      <th>0</th>\n",
       "      <td>/kaggle/input/music-genre-classification/train...</td>\n",
       "    </tr>\n",
       "    <tr>\n",
       "      <th>1</th>\n",
       "      <td>/kaggle/input/music-genre-classification/train...</td>\n",
       "    </tr>\n",
       "    <tr>\n",
       "      <th>2</th>\n",
       "      <td>/kaggle/input/music-genre-classification/train...</td>\n",
       "    </tr>\n",
       "    <tr>\n",
       "      <th>3</th>\n",
       "      <td>/kaggle/input/music-genre-classification/train...</td>\n",
       "    </tr>\n",
       "    <tr>\n",
       "      <th>4</th>\n",
       "      <td>/kaggle/input/music-genre-classification/train...</td>\n",
       "    </tr>\n",
       "  </tbody>\n",
       "</table>\n",
       "</div>"
      ],
      "text/plain": [
       "                                            filename\n",
       "0  /kaggle/input/music-genre-classification/train...\n",
       "1  /kaggle/input/music-genre-classification/train...\n",
       "2  /kaggle/input/music-genre-classification/train...\n",
       "3  /kaggle/input/music-genre-classification/train...\n",
       "4  /kaggle/input/music-genre-classification/train..."
      ]
     },
     "execution_count": 2,
     "metadata": {},
     "output_type": "execute_result"
    }
   ],
   "source": [
    "train=pd.DataFrame()\n",
    "train=train.assign(filename=Id)\n",
    "train.head()"
   ]
  },
  {
   "cell_type": "code",
   "execution_count": 3,
   "id": "1318d119",
   "metadata": {
    "execution": {
     "iopub.execute_input": "2024-11-09T15:12:59.090901Z",
     "iopub.status.busy": "2024-11-09T15:12:59.090518Z",
     "iopub.status.idle": "2024-11-09T15:12:59.103913Z",
     "shell.execute_reply": "2024-11-09T15:12:59.102926Z"
    },
    "papermill": {
     "duration": 0.023486,
     "end_time": "2024-11-09T15:12:59.106372",
     "exception": false,
     "start_time": "2024-11-09T15:12:59.082886",
     "status": "completed"
    },
    "tags": []
   },
   "outputs": [
    {
     "data": {
      "text/html": [
       "<div>\n",
       "<style scoped>\n",
       "    .dataframe tbody tr th:only-of-type {\n",
       "        vertical-align: middle;\n",
       "    }\n",
       "\n",
       "    .dataframe tbody tr th {\n",
       "        vertical-align: top;\n",
       "    }\n",
       "\n",
       "    .dataframe thead th {\n",
       "        text-align: right;\n",
       "    }\n",
       "</style>\n",
       "<table border=\"1\" class=\"dataframe\">\n",
       "  <thead>\n",
       "    <tr style=\"text-align: right;\">\n",
       "      <th></th>\n",
       "      <th>filename</th>\n",
       "      <th>label</th>\n",
       "    </tr>\n",
       "  </thead>\n",
       "  <tbody>\n",
       "    <tr>\n",
       "      <th>0</th>\n",
       "      <td>/kaggle/input/music-genre-classification/train...</td>\n",
       "      <td>disco/disco.00031.wav</td>\n",
       "    </tr>\n",
       "    <tr>\n",
       "      <th>1</th>\n",
       "      <td>/kaggle/input/music-genre-classification/train...</td>\n",
       "      <td>disco/disco.00089.wav</td>\n",
       "    </tr>\n",
       "    <tr>\n",
       "      <th>2</th>\n",
       "      <td>/kaggle/input/music-genre-classification/train...</td>\n",
       "      <td>disco/disco.00079.wav</td>\n",
       "    </tr>\n",
       "    <tr>\n",
       "      <th>3</th>\n",
       "      <td>/kaggle/input/music-genre-classification/train...</td>\n",
       "      <td>disco/disco.00030.wav</td>\n",
       "    </tr>\n",
       "    <tr>\n",
       "      <th>4</th>\n",
       "      <td>/kaggle/input/music-genre-classification/train...</td>\n",
       "      <td>disco/disco.00060.wav</td>\n",
       "    </tr>\n",
       "  </tbody>\n",
       "</table>\n",
       "</div>"
      ],
      "text/plain": [
       "                                            filename                  label\n",
       "0  /kaggle/input/music-genre-classification/train...  disco/disco.00031.wav\n",
       "1  /kaggle/input/music-genre-classification/train...  disco/disco.00089.wav\n",
       "2  /kaggle/input/music-genre-classification/train...  disco/disco.00079.wav\n",
       "3  /kaggle/input/music-genre-classification/train...  disco/disco.00030.wav\n",
       "4  /kaggle/input/music-genre-classification/train...  disco/disco.00060.wav"
      ]
     },
     "execution_count": 3,
     "metadata": {},
     "output_type": "execute_result"
    }
   ],
   "source": [
    "train['label']=train['filename']\n",
    "train['label']=train['label'].str.replace('/kaggle/input/music-genre-classification/train/','')\n",
    "train.head()"
   ]
  },
  {
   "cell_type": "code",
   "execution_count": 4,
   "id": "c4d2b1a8",
   "metadata": {
    "execution": {
     "iopub.execute_input": "2024-11-09T15:12:59.120836Z",
     "iopub.status.busy": "2024-11-09T15:12:59.120443Z",
     "iopub.status.idle": "2024-11-09T15:12:59.133682Z",
     "shell.execute_reply": "2024-11-09T15:12:59.132652Z"
    },
    "papermill": {
     "duration": 0.023203,
     "end_time": "2024-11-09T15:12:59.136050",
     "exception": false,
     "start_time": "2024-11-09T15:12:59.112847",
     "status": "completed"
    },
    "tags": []
   },
   "outputs": [
    {
     "data": {
      "text/html": [
       "<div>\n",
       "<style scoped>\n",
       "    .dataframe tbody tr th:only-of-type {\n",
       "        vertical-align: middle;\n",
       "    }\n",
       "\n",
       "    .dataframe tbody tr th {\n",
       "        vertical-align: top;\n",
       "    }\n",
       "\n",
       "    .dataframe thead th {\n",
       "        text-align: right;\n",
       "    }\n",
       "</style>\n",
       "<table border=\"1\" class=\"dataframe\">\n",
       "  <thead>\n",
       "    <tr style=\"text-align: right;\">\n",
       "      <th></th>\n",
       "      <th>filename</th>\n",
       "      <th>label</th>\n",
       "    </tr>\n",
       "  </thead>\n",
       "  <tbody>\n",
       "    <tr>\n",
       "      <th>0</th>\n",
       "      <td>/kaggle/input/music-genre-classification/train...</td>\n",
       "      <td>disco</td>\n",
       "    </tr>\n",
       "    <tr>\n",
       "      <th>1</th>\n",
       "      <td>/kaggle/input/music-genre-classification/train...</td>\n",
       "      <td>disco</td>\n",
       "    </tr>\n",
       "    <tr>\n",
       "      <th>2</th>\n",
       "      <td>/kaggle/input/music-genre-classification/train...</td>\n",
       "      <td>disco</td>\n",
       "    </tr>\n",
       "    <tr>\n",
       "      <th>3</th>\n",
       "      <td>/kaggle/input/music-genre-classification/train...</td>\n",
       "      <td>disco</td>\n",
       "    </tr>\n",
       "    <tr>\n",
       "      <th>4</th>\n",
       "      <td>/kaggle/input/music-genre-classification/train...</td>\n",
       "      <td>disco</td>\n",
       "    </tr>\n",
       "  </tbody>\n",
       "</table>\n",
       "</div>"
      ],
      "text/plain": [
       "                                            filename  label\n",
       "0  /kaggle/input/music-genre-classification/train...  disco\n",
       "1  /kaggle/input/music-genre-classification/train...  disco\n",
       "2  /kaggle/input/music-genre-classification/train...  disco\n",
       "3  /kaggle/input/music-genre-classification/train...  disco\n",
       "4  /kaggle/input/music-genre-classification/train...  disco"
      ]
     },
     "execution_count": 4,
     "metadata": {},
     "output_type": "execute_result"
    }
   ],
   "source": [
    "train['label'] = train['label'].str.split('/').str[0]\n",
    "train.head()"
   ]
  },
  {
   "cell_type": "code",
   "execution_count": 5,
   "id": "5193d668",
   "metadata": {
    "execution": {
     "iopub.execute_input": "2024-11-09T15:12:59.151529Z",
     "iopub.status.busy": "2024-11-09T15:12:59.151134Z",
     "iopub.status.idle": "2024-11-09T15:12:59.200021Z",
     "shell.execute_reply": "2024-11-09T15:12:59.198910Z"
    },
    "papermill": {
     "duration": 0.059432,
     "end_time": "2024-11-09T15:12:59.202375",
     "exception": false,
     "start_time": "2024-11-09T15:12:59.142943",
     "status": "completed"
    },
    "tags": []
   },
   "outputs": [
    {
     "data": {
      "text/plain": [
       "['/kaggle/input/music-genre-classification/test/disco/disco.00006.wav',\n",
       " '/kaggle/input/music-genre-classification/test/disco/disco.00023.wav',\n",
       " '/kaggle/input/music-genre-classification/test/disco/disco.00017.wav',\n",
       " '/kaggle/input/music-genre-classification/test/disco/disco.00000.wav',\n",
       " '/kaggle/input/music-genre-classification/test/disco/disco.00092.wav']"
      ]
     },
     "execution_count": 5,
     "metadata": {},
     "output_type": "execute_result"
    }
   ],
   "source": [
    "Id=[]\n",
    "import numpy as np # linear algebra\n",
    "import pandas as pd # data processing, CSV file I/O (e.g. pd.read_csv)\n",
    "\n",
    "# Input data files are available in the read-only \"../input/\" directory\n",
    "# For example, running this (by clicking run or pressing Shift+Enter) will list all files under the input directory\n",
    "\n",
    "import os\n",
    "for dirname, _, filenames in os.walk('/kaggle/input/music-genre-classification/test'):\n",
    "    for filename in filenames:\n",
    "        Id.append(os.path.join(dirname, filename))\n",
    "Id[:5]"
   ]
  },
  {
   "cell_type": "code",
   "execution_count": 6,
   "id": "834af77e",
   "metadata": {
    "execution": {
     "iopub.execute_input": "2024-11-09T15:12:59.218839Z",
     "iopub.status.busy": "2024-11-09T15:12:59.218435Z",
     "iopub.status.idle": "2024-11-09T15:12:59.230629Z",
     "shell.execute_reply": "2024-11-09T15:12:59.229433Z"
    },
    "papermill": {
     "duration": 0.023448,
     "end_time": "2024-11-09T15:12:59.232895",
     "exception": false,
     "start_time": "2024-11-09T15:12:59.209447",
     "status": "completed"
    },
    "tags": []
   },
   "outputs": [
    {
     "data": {
      "text/html": [
       "<div>\n",
       "<style scoped>\n",
       "    .dataframe tbody tr th:only-of-type {\n",
       "        vertical-align: middle;\n",
       "    }\n",
       "\n",
       "    .dataframe tbody tr th {\n",
       "        vertical-align: top;\n",
       "    }\n",
       "\n",
       "    .dataframe thead th {\n",
       "        text-align: right;\n",
       "    }\n",
       "</style>\n",
       "<table border=\"1\" class=\"dataframe\">\n",
       "  <thead>\n",
       "    <tr style=\"text-align: right;\">\n",
       "      <th></th>\n",
       "      <th>filename</th>\n",
       "    </tr>\n",
       "  </thead>\n",
       "  <tbody>\n",
       "    <tr>\n",
       "      <th>0</th>\n",
       "      <td>/kaggle/input/music-genre-classification/test/...</td>\n",
       "    </tr>\n",
       "    <tr>\n",
       "      <th>1</th>\n",
       "      <td>/kaggle/input/music-genre-classification/test/...</td>\n",
       "    </tr>\n",
       "    <tr>\n",
       "      <th>2</th>\n",
       "      <td>/kaggle/input/music-genre-classification/test/...</td>\n",
       "    </tr>\n",
       "    <tr>\n",
       "      <th>3</th>\n",
       "      <td>/kaggle/input/music-genre-classification/test/...</td>\n",
       "    </tr>\n",
       "    <tr>\n",
       "      <th>4</th>\n",
       "      <td>/kaggle/input/music-genre-classification/test/...</td>\n",
       "    </tr>\n",
       "  </tbody>\n",
       "</table>\n",
       "</div>"
      ],
      "text/plain": [
       "                                            filename\n",
       "0  /kaggle/input/music-genre-classification/test/...\n",
       "1  /kaggle/input/music-genre-classification/test/...\n",
       "2  /kaggle/input/music-genre-classification/test/...\n",
       "3  /kaggle/input/music-genre-classification/test/...\n",
       "4  /kaggle/input/music-genre-classification/test/..."
      ]
     },
     "execution_count": 6,
     "metadata": {},
     "output_type": "execute_result"
    }
   ],
   "source": [
    "test=pd.DataFrame()\n",
    "test=test.assign(filename=Id)\n",
    "test.head()"
   ]
  },
  {
   "cell_type": "code",
   "execution_count": 7,
   "id": "608f6d86",
   "metadata": {
    "execution": {
     "iopub.execute_input": "2024-11-09T15:12:59.249999Z",
     "iopub.status.busy": "2024-11-09T15:12:59.249062Z",
     "iopub.status.idle": "2024-11-09T15:12:59.262208Z",
     "shell.execute_reply": "2024-11-09T15:12:59.261107Z"
    },
    "papermill": {
     "duration": 0.024509,
     "end_time": "2024-11-09T15:12:59.264957",
     "exception": false,
     "start_time": "2024-11-09T15:12:59.240448",
     "status": "completed"
    },
    "tags": []
   },
   "outputs": [
    {
     "data": {
      "text/html": [
       "<div>\n",
       "<style scoped>\n",
       "    .dataframe tbody tr th:only-of-type {\n",
       "        vertical-align: middle;\n",
       "    }\n",
       "\n",
       "    .dataframe tbody tr th {\n",
       "        vertical-align: top;\n",
       "    }\n",
       "\n",
       "    .dataframe thead th {\n",
       "        text-align: right;\n",
       "    }\n",
       "</style>\n",
       "<table border=\"1\" class=\"dataframe\">\n",
       "  <thead>\n",
       "    <tr style=\"text-align: right;\">\n",
       "      <th></th>\n",
       "      <th>filename</th>\n",
       "      <th>label</th>\n",
       "    </tr>\n",
       "  </thead>\n",
       "  <tbody>\n",
       "    <tr>\n",
       "      <th>0</th>\n",
       "      <td>/kaggle/input/music-genre-classification/test/...</td>\n",
       "      <td>disco/disco.00006.wav</td>\n",
       "    </tr>\n",
       "    <tr>\n",
       "      <th>1</th>\n",
       "      <td>/kaggle/input/music-genre-classification/test/...</td>\n",
       "      <td>disco/disco.00023.wav</td>\n",
       "    </tr>\n",
       "    <tr>\n",
       "      <th>2</th>\n",
       "      <td>/kaggle/input/music-genre-classification/test/...</td>\n",
       "      <td>disco/disco.00017.wav</td>\n",
       "    </tr>\n",
       "    <tr>\n",
       "      <th>3</th>\n",
       "      <td>/kaggle/input/music-genre-classification/test/...</td>\n",
       "      <td>disco/disco.00000.wav</td>\n",
       "    </tr>\n",
       "    <tr>\n",
       "      <th>4</th>\n",
       "      <td>/kaggle/input/music-genre-classification/test/...</td>\n",
       "      <td>disco/disco.00092.wav</td>\n",
       "    </tr>\n",
       "  </tbody>\n",
       "</table>\n",
       "</div>"
      ],
      "text/plain": [
       "                                            filename                  label\n",
       "0  /kaggle/input/music-genre-classification/test/...  disco/disco.00006.wav\n",
       "1  /kaggle/input/music-genre-classification/test/...  disco/disco.00023.wav\n",
       "2  /kaggle/input/music-genre-classification/test/...  disco/disco.00017.wav\n",
       "3  /kaggle/input/music-genre-classification/test/...  disco/disco.00000.wav\n",
       "4  /kaggle/input/music-genre-classification/test/...  disco/disco.00092.wav"
      ]
     },
     "execution_count": 7,
     "metadata": {},
     "output_type": "execute_result"
    }
   ],
   "source": [
    "test['label']=test['filename']\n",
    "test['label']=test['label'].str.replace('/kaggle/input/music-genre-classification/test/','')\n",
    "test.head()"
   ]
  },
  {
   "cell_type": "code",
   "execution_count": 8,
   "id": "13b0988b",
   "metadata": {
    "execution": {
     "iopub.execute_input": "2024-11-09T15:12:59.282245Z",
     "iopub.status.busy": "2024-11-09T15:12:59.281819Z",
     "iopub.status.idle": "2024-11-09T15:12:59.296281Z",
     "shell.execute_reply": "2024-11-09T15:12:59.295044Z"
    },
    "papermill": {
     "duration": 0.025826,
     "end_time": "2024-11-09T15:12:59.298543",
     "exception": false,
     "start_time": "2024-11-09T15:12:59.272717",
     "status": "completed"
    },
    "tags": []
   },
   "outputs": [
    {
     "data": {
      "text/html": [
       "<div>\n",
       "<style scoped>\n",
       "    .dataframe tbody tr th:only-of-type {\n",
       "        vertical-align: middle;\n",
       "    }\n",
       "\n",
       "    .dataframe tbody tr th {\n",
       "        vertical-align: top;\n",
       "    }\n",
       "\n",
       "    .dataframe thead th {\n",
       "        text-align: right;\n",
       "    }\n",
       "</style>\n",
       "<table border=\"1\" class=\"dataframe\">\n",
       "  <thead>\n",
       "    <tr style=\"text-align: right;\">\n",
       "      <th></th>\n",
       "      <th>filename</th>\n",
       "      <th>label</th>\n",
       "    </tr>\n",
       "  </thead>\n",
       "  <tbody>\n",
       "    <tr>\n",
       "      <th>0</th>\n",
       "      <td>/kaggle/input/music-genre-classification/test/...</td>\n",
       "      <td>disco</td>\n",
       "    </tr>\n",
       "    <tr>\n",
       "      <th>1</th>\n",
       "      <td>/kaggle/input/music-genre-classification/test/...</td>\n",
       "      <td>disco</td>\n",
       "    </tr>\n",
       "    <tr>\n",
       "      <th>2</th>\n",
       "      <td>/kaggle/input/music-genre-classification/test/...</td>\n",
       "      <td>disco</td>\n",
       "    </tr>\n",
       "    <tr>\n",
       "      <th>3</th>\n",
       "      <td>/kaggle/input/music-genre-classification/test/...</td>\n",
       "      <td>disco</td>\n",
       "    </tr>\n",
       "    <tr>\n",
       "      <th>4</th>\n",
       "      <td>/kaggle/input/music-genre-classification/test/...</td>\n",
       "      <td>disco</td>\n",
       "    </tr>\n",
       "  </tbody>\n",
       "</table>\n",
       "</div>"
      ],
      "text/plain": [
       "                                            filename  label\n",
       "0  /kaggle/input/music-genre-classification/test/...  disco\n",
       "1  /kaggle/input/music-genre-classification/test/...  disco\n",
       "2  /kaggle/input/music-genre-classification/test/...  disco\n",
       "3  /kaggle/input/music-genre-classification/test/...  disco\n",
       "4  /kaggle/input/music-genre-classification/test/...  disco"
      ]
     },
     "execution_count": 8,
     "metadata": {},
     "output_type": "execute_result"
    }
   ],
   "source": [
    "test['label'] = test['label'].str.split('/').str[0]\n",
    "test.head()"
   ]
  },
  {
   "cell_type": "code",
   "execution_count": 9,
   "id": "2dcd1aff",
   "metadata": {
    "execution": {
     "iopub.execute_input": "2024-11-09T15:12:59.315505Z",
     "iopub.status.busy": "2024-11-09T15:12:59.315110Z",
     "iopub.status.idle": "2024-11-09T15:13:12.007294Z",
     "shell.execute_reply": "2024-11-09T15:13:12.006081Z"
    },
    "papermill": {
     "duration": 12.703893,
     "end_time": "2024-11-09T15:13:12.010076",
     "exception": false,
     "start_time": "2024-11-09T15:12:59.306183",
     "status": "completed"
    },
    "tags": []
   },
   "outputs": [
    {
     "name": "stderr",
     "output_type": "stream",
     "text": [
      "/opt/conda/lib/python3.10/site-packages/scipy/__init__.py:146: UserWarning: A NumPy version >=1.16.5 and <1.23.0 is required for this version of SciPy (detected version 1.23.5\n",
      "  warnings.warn(f\"A NumPy version >={np_minversion} and <{np_maxversion}\"\n"
     ]
    }
   ],
   "source": [
    "import tensorflow as tf \n",
    "import numpy\n",
    "import numpy as np\n",
    "model = tf.saved_model.load( '/kaggle/input/music-genre-classification-vggish-model/VGGish' )\n",
    "classes = [  \"blues\" ,  \"classical\" ,  \"country\" ,  \"disco\" , \n",
    "           \"hiphop\" ,  \"jazz\" ,  \"metal\" ,  \"pop\" ,  \"reggae\" ,  \"rock\" ,  ]"
   ]
  },
  {
   "cell_type": "code",
   "execution_count": 10,
   "id": "611ea862",
   "metadata": {
    "execution": {
     "iopub.execute_input": "2024-11-09T15:13:12.027812Z",
     "iopub.status.busy": "2024-11-09T15:13:12.027391Z",
     "iopub.status.idle": "2024-11-09T15:15:17.984889Z",
     "shell.execute_reply": "2024-11-09T15:15:17.983674Z"
    },
    "papermill": {
     "duration": 125.976798,
     "end_time": "2024-11-09T15:15:17.994950",
     "exception": false,
     "start_time": "2024-11-09T15:13:12.018152",
     "status": "completed"
    },
    "tags": []
   },
   "outputs": [
    {
     "data": {
      "text/plain": [
       "['disco', 'pop', 'disco', 'hiphop', 'disco']"
      ]
     },
     "execution_count": 10,
     "metadata": {},
     "output_type": "execute_result"
    }
   ],
   "source": [
    "import librosa\n",
    "result=[]\n",
    "for i in test.filename:\n",
    "    waveform , sr = librosa.load(i , sr=16000)\n",
    "    if waveform.shape[0] % 16000 != 0:\n",
    "        waveform = np.concatenate([waveform, np.zeros(16000)])\n",
    "    inp = tf.constant( np.array([waveform]) , dtype='float32'  )\n",
    "    class_scores = model( inp )[0].numpy()\n",
    "    result.append( classes[  class_scores.argmax()])\n",
    "result[:5]"
   ]
  },
  {
   "cell_type": "code",
   "execution_count": 11,
   "id": "0f042570",
   "metadata": {
    "execution": {
     "iopub.execute_input": "2024-11-09T15:15:18.013371Z",
     "iopub.status.busy": "2024-11-09T15:15:18.012526Z",
     "iopub.status.idle": "2024-11-09T15:15:18.027132Z",
     "shell.execute_reply": "2024-11-09T15:15:18.026086Z"
    },
    "papermill": {
     "duration": 0.026963,
     "end_time": "2024-11-09T15:15:18.029759",
     "exception": false,
     "start_time": "2024-11-09T15:15:18.002796",
     "status": "completed"
    },
    "tags": []
   },
   "outputs": [
    {
     "data": {
      "text/html": [
       "<div>\n",
       "<style scoped>\n",
       "    .dataframe tbody tr th:only-of-type {\n",
       "        vertical-align: middle;\n",
       "    }\n",
       "\n",
       "    .dataframe tbody tr th {\n",
       "        vertical-align: top;\n",
       "    }\n",
       "\n",
       "    .dataframe thead th {\n",
       "        text-align: right;\n",
       "    }\n",
       "</style>\n",
       "<table border=\"1\" class=\"dataframe\">\n",
       "  <thead>\n",
       "    <tr style=\"text-align: right;\">\n",
       "      <th></th>\n",
       "      <th>filename</th>\n",
       "      <th>label</th>\n",
       "      <th>prediction</th>\n",
       "    </tr>\n",
       "  </thead>\n",
       "  <tbody>\n",
       "    <tr>\n",
       "      <th>0</th>\n",
       "      <td>/kaggle/input/music-genre-classification/test/...</td>\n",
       "      <td>disco</td>\n",
       "      <td>disco</td>\n",
       "    </tr>\n",
       "    <tr>\n",
       "      <th>1</th>\n",
       "      <td>/kaggle/input/music-genre-classification/test/...</td>\n",
       "      <td>disco</td>\n",
       "      <td>pop</td>\n",
       "    </tr>\n",
       "    <tr>\n",
       "      <th>2</th>\n",
       "      <td>/kaggle/input/music-genre-classification/test/...</td>\n",
       "      <td>disco</td>\n",
       "      <td>disco</td>\n",
       "    </tr>\n",
       "    <tr>\n",
       "      <th>3</th>\n",
       "      <td>/kaggle/input/music-genre-classification/test/...</td>\n",
       "      <td>disco</td>\n",
       "      <td>hiphop</td>\n",
       "    </tr>\n",
       "    <tr>\n",
       "      <th>4</th>\n",
       "      <td>/kaggle/input/music-genre-classification/test/...</td>\n",
       "      <td>disco</td>\n",
       "      <td>disco</td>\n",
       "    </tr>\n",
       "  </tbody>\n",
       "</table>\n",
       "</div>"
      ],
      "text/plain": [
       "                                            filename  label prediction\n",
       "0  /kaggle/input/music-genre-classification/test/...  disco      disco\n",
       "1  /kaggle/input/music-genre-classification/test/...  disco        pop\n",
       "2  /kaggle/input/music-genre-classification/test/...  disco      disco\n",
       "3  /kaggle/input/music-genre-classification/test/...  disco     hiphop\n",
       "4  /kaggle/input/music-genre-classification/test/...  disco      disco"
      ]
     },
     "execution_count": 11,
     "metadata": {},
     "output_type": "execute_result"
    }
   ],
   "source": [
    "test=test.assign(prediction=result)\n",
    "test.head()"
   ]
  },
  {
   "cell_type": "code",
   "execution_count": 12,
   "id": "9e7c89aa",
   "metadata": {
    "execution": {
     "iopub.execute_input": "2024-11-09T15:15:18.047510Z",
     "iopub.status.busy": "2024-11-09T15:15:18.047124Z",
     "iopub.status.idle": "2024-11-09T15:22:45.174428Z",
     "shell.execute_reply": "2024-11-09T15:22:45.173085Z"
    },
    "papermill": {
     "duration": 447.149922,
     "end_time": "2024-11-09T15:22:45.187902",
     "exception": false,
     "start_time": "2024-11-09T15:15:18.037980",
     "status": "completed"
    },
    "tags": []
   },
   "outputs": [
    {
     "data": {
      "text/plain": [
       "['disco', 'disco', 'disco', 'disco', 'disco']"
      ]
     },
     "execution_count": 12,
     "metadata": {},
     "output_type": "execute_result"
    }
   ],
   "source": [
    "result=[]\n",
    "for i in train.filename:\n",
    "    waveform , sr = librosa.load(i , sr=16000)\n",
    "    if waveform.shape[0] % 16000 != 0:\n",
    "        waveform = np.concatenate([waveform, np.zeros(16000)])\n",
    "    inp = tf.constant( np.array([waveform]) , dtype='float32'  )\n",
    "    class_scores = model( inp )[0].numpy()\n",
    "    result.append( classes[  class_scores.argmax()])\n",
    "result[:5]"
   ]
  },
  {
   "cell_type": "code",
   "execution_count": 13,
   "id": "4a0ad3bb",
   "metadata": {
    "execution": {
     "iopub.execute_input": "2024-11-09T15:22:45.206406Z",
     "iopub.status.busy": "2024-11-09T15:22:45.205957Z",
     "iopub.status.idle": "2024-11-09T15:22:45.219534Z",
     "shell.execute_reply": "2024-11-09T15:22:45.218492Z"
    },
    "papermill": {
     "duration": 0.025879,
     "end_time": "2024-11-09T15:22:45.222112",
     "exception": false,
     "start_time": "2024-11-09T15:22:45.196233",
     "status": "completed"
    },
    "tags": []
   },
   "outputs": [
    {
     "data": {
      "text/html": [
       "<div>\n",
       "<style scoped>\n",
       "    .dataframe tbody tr th:only-of-type {\n",
       "        vertical-align: middle;\n",
       "    }\n",
       "\n",
       "    .dataframe tbody tr th {\n",
       "        vertical-align: top;\n",
       "    }\n",
       "\n",
       "    .dataframe thead th {\n",
       "        text-align: right;\n",
       "    }\n",
       "</style>\n",
       "<table border=\"1\" class=\"dataframe\">\n",
       "  <thead>\n",
       "    <tr style=\"text-align: right;\">\n",
       "      <th></th>\n",
       "      <th>filename</th>\n",
       "      <th>label</th>\n",
       "      <th>prediction</th>\n",
       "    </tr>\n",
       "  </thead>\n",
       "  <tbody>\n",
       "    <tr>\n",
       "      <th>0</th>\n",
       "      <td>/kaggle/input/music-genre-classification/train...</td>\n",
       "      <td>disco</td>\n",
       "      <td>disco</td>\n",
       "    </tr>\n",
       "    <tr>\n",
       "      <th>1</th>\n",
       "      <td>/kaggle/input/music-genre-classification/train...</td>\n",
       "      <td>disco</td>\n",
       "      <td>disco</td>\n",
       "    </tr>\n",
       "    <tr>\n",
       "      <th>2</th>\n",
       "      <td>/kaggle/input/music-genre-classification/train...</td>\n",
       "      <td>disco</td>\n",
       "      <td>disco</td>\n",
       "    </tr>\n",
       "    <tr>\n",
       "      <th>3</th>\n",
       "      <td>/kaggle/input/music-genre-classification/train...</td>\n",
       "      <td>disco</td>\n",
       "      <td>disco</td>\n",
       "    </tr>\n",
       "    <tr>\n",
       "      <th>4</th>\n",
       "      <td>/kaggle/input/music-genre-classification/train...</td>\n",
       "      <td>disco</td>\n",
       "      <td>disco</td>\n",
       "    </tr>\n",
       "  </tbody>\n",
       "</table>\n",
       "</div>"
      ],
      "text/plain": [
       "                                            filename  label prediction\n",
       "0  /kaggle/input/music-genre-classification/train...  disco      disco\n",
       "1  /kaggle/input/music-genre-classification/train...  disco      disco\n",
       "2  /kaggle/input/music-genre-classification/train...  disco      disco\n",
       "3  /kaggle/input/music-genre-classification/train...  disco      disco\n",
       "4  /kaggle/input/music-genre-classification/train...  disco      disco"
      ]
     },
     "execution_count": 13,
     "metadata": {},
     "output_type": "execute_result"
    }
   ],
   "source": [
    "train=train.assign(prediction=result)\n",
    "train.head()"
   ]
  },
  {
   "cell_type": "code",
   "execution_count": 14,
   "id": "8f9796fd",
   "metadata": {
    "execution": {
     "iopub.execute_input": "2024-11-09T15:22:45.241131Z",
     "iopub.status.busy": "2024-11-09T15:22:45.240688Z",
     "iopub.status.idle": "2024-11-09T15:22:45.496597Z",
     "shell.execute_reply": "2024-11-09T15:22:45.495213Z"
    },
    "papermill": {
     "duration": 0.268387,
     "end_time": "2024-11-09T15:22:45.499235",
     "exception": false,
     "start_time": "2024-11-09T15:22:45.230848",
     "status": "completed"
    },
    "tags": []
   },
   "outputs": [
    {
     "name": "stdout",
     "output_type": "stream",
     "text": [
      "              precision    recall  f1-score   support\n",
      "\n",
      "       blues       0.95      0.96      0.96        79\n",
      "   classical       0.99      0.99      0.99        72\n",
      "     country       0.89      0.85      0.87        79\n",
      "       disco       0.91      0.98      0.94        81\n",
      "      hiphop       0.98      0.96      0.97        83\n",
      "        jazz       0.99      0.97      0.98        78\n",
      "       metal       0.99      0.99      0.99        89\n",
      "         pop       0.97      0.95      0.96        80\n",
      "      reggae       0.94      0.93      0.93        80\n",
      "        rock       0.85      0.87      0.86        78\n",
      "\n",
      "    accuracy                           0.94       799\n",
      "   macro avg       0.94      0.94      0.94       799\n",
      "weighted avg       0.95      0.94      0.94       799\n",
      "\n"
     ]
    }
   ],
   "source": [
    "from sklearn.metrics import classification_report\n",
    "print(classification_report(train['label'],train['prediction']))"
   ]
  },
  {
   "cell_type": "code",
   "execution_count": 15,
   "id": "72b87a0c",
   "metadata": {
    "execution": {
     "iopub.execute_input": "2024-11-09T15:22:45.519454Z",
     "iopub.status.busy": "2024-11-09T15:22:45.518620Z",
     "iopub.status.idle": "2024-11-09T15:22:45.543747Z",
     "shell.execute_reply": "2024-11-09T15:22:45.542255Z"
    },
    "papermill": {
     "duration": 0.038806,
     "end_time": "2024-11-09T15:22:45.546833",
     "exception": false,
     "start_time": "2024-11-09T15:22:45.508027",
     "status": "completed"
    },
    "tags": []
   },
   "outputs": [
    {
     "name": "stdout",
     "output_type": "stream",
     "text": [
      "              precision    recall  f1-score   support\n",
      "\n",
      "       blues       0.83      0.71      0.77        21\n",
      "   classical       1.00      0.96      0.98        28\n",
      "     country       0.62      0.71      0.67        21\n",
      "       disco       0.75      0.79      0.77        19\n",
      "      hiphop       0.78      0.82      0.80        17\n",
      "        jazz       0.95      0.90      0.93        21\n",
      "       metal       0.92      1.00      0.96        11\n",
      "         pop       0.88      0.75      0.81        20\n",
      "      reggae       0.68      0.75      0.71        20\n",
      "        rock       0.77      0.77      0.77        22\n",
      "\n",
      "    accuracy                           0.81       200\n",
      "   macro avg       0.82      0.82      0.82       200\n",
      "weighted avg       0.82      0.81      0.82       200\n",
      "\n"
     ]
    }
   ],
   "source": [
    "print(classification_report(test['label'],test['prediction']))"
   ]
  },
  {
   "cell_type": "code",
   "execution_count": 16,
   "id": "affb8022",
   "metadata": {
    "execution": {
     "iopub.execute_input": "2024-11-09T15:22:45.566878Z",
     "iopub.status.busy": "2024-11-09T15:22:45.565896Z",
     "iopub.status.idle": "2024-11-09T15:22:50.631197Z",
     "shell.execute_reply": "2024-11-09T15:22:50.629965Z"
    },
    "papermill": {
     "duration": 5.07866,
     "end_time": "2024-11-09T15:22:50.634366",
     "exception": false,
     "start_time": "2024-11-09T15:22:45.555706",
     "status": "completed"
    },
    "tags": []
   },
   "outputs": [],
   "source": [
    "import tensorflow as tf\n",
    "\n",
    "# Assuming 'model' is your trained model\n",
    "model = tf.saved_model.load('/kaggle/input/music-genre-classification-vggish-model/VGGish')\n",
    "\n",
    "# Save the model to the /kaggle/working directory\n",
    "model_path = '/kaggle/working/saved_model'\n",
    "tf.saved_model.save(model, model_path)\n"
   ]
  }
 ],
 "metadata": {
  "kaggle": {
   "accelerator": "none",
   "dataSources": [
    {
     "datasetId": 568973,
     "sourceId": 1032238,
     "sourceType": "datasetVersion"
    },
    {
     "datasetId": 3229351,
     "sourceId": 5615994,
     "sourceType": "datasetVersion"
    },
    {
     "datasetId": 3229649,
     "sourceId": 5616581,
     "sourceType": "datasetVersion"
    }
   ],
   "dockerImageVersionId": 30474,
   "isGpuEnabled": false,
   "isInternetEnabled": false,
   "language": "python",
   "sourceType": "notebook"
  },
  "kernelspec": {
   "display_name": "Python 3",
   "language": "python",
   "name": "python3"
  },
  "language_info": {
   "codemirror_mode": {
    "name": "ipython",
    "version": 3
   },
   "file_extension": ".py",
   "mimetype": "text/x-python",
   "name": "python",
   "nbconvert_exporter": "python",
   "pygments_lexer": "ipython3",
   "version": "3.10.10"
  },
  "papermill": {
   "default_parameters": {},
   "duration": 607.457468,
   "end_time": "2024-11-09T15:22:53.551220",
   "environment_variables": {},
   "exception": null,
   "input_path": "__notebook__.ipynb",
   "output_path": "__notebook__.ipynb",
   "parameters": {},
   "start_time": "2024-11-09T15:12:46.093752",
   "version": "2.4.0"
  }
 },
 "nbformat": 4,
 "nbformat_minor": 5
}
